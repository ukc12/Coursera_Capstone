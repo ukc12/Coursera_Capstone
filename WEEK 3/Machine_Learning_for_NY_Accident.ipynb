{
  "nbformat": 4,
  "nbformat_minor": 0,
  "metadata": {
    "kernelspec": {
      "display_name": "Python 3",
      "language": "python",
      "name": "python3"
    },
    "language_info": {
      "codemirror_mode": {
        "name": "ipython",
        "version": 3
      },
      "file_extension": ".py",
      "mimetype": "text/x-python",
      "name": "python",
      "nbconvert_exporter": "python",
      "pygments_lexer": "ipython3",
      "version": "3.7.4"
    },
    "colab": {
      "name": "Machine Learning for US Accidents_NY_RZhou.ipynb",
      "provenance": [],
      "collapsed_sections": [
        "zwpOi-J96ogj"
      ]
    }
  },
  "cells": [
    {
      "cell_type": "markdown",
      "metadata": {
        "id": "s9Zmd7906oeT",
        "colab_type": "text"
      },
      "source": [
        "# How You Can Avoid Car Accident in 2020\n",
        "\n",
        "\n",
        "### Use LR/KNN/Decision Tree/Random Forest classification algorithms from sklearn to predict the accident severity\n",
        "\n",
        "Due to the limit of computer capacity, I am focusing on the State of New York. I will only select a few features I believe are more relavant to severity. Categorical data will be treated with Pandas get_dummies method. Rows with missing values will be dropped.\n",
        "\n",
        "### Data source\n",
        "https://www.kaggle.com/sobhanmoosavi/us-accidents\n",
        "\n",
        "\n",
        "By the end of this process, I will clarify:\n",
        "\n",
        "Question 1. On what days, the accidents were more?"
      ]
    },
    {
      "cell_type": "markdown",
      "metadata": {
        "id": "nF-30Xyf6oeW",
        "colab_type": "text"
      },
      "source": [
        "### Step 1. Import libraries"
      ]
    },
    {
      "cell_type": "code",
      "metadata": {
        "scrolled": true,
        "id": "gvZeltf16oea",
        "colab_type": "code",
        "colab": {}
      },
      "source": [
        "\n",
        "import numpy as np\n",
        "import pandas as pd\n",
        "import matplotlib.pyplot as plt\n",
        "import seaborn as sns\n",
        "%matplotlib inline\n",
        "pd.set_option('display.max_rows', 200)\n",
        "pd.set_option('display.max_columns', 200)\n",
        "plt.style.use('ggplot')\n",
        "from sklearn.linear_model import LogisticRegression\n",
        "from sklearn.neighbors import KNeighborsClassifier\n",
        "from sklearn.tree import DecisionTreeClassifier\n",
        "from sklearn.ensemble import RandomForestClassifier\n",
        "from sklearn.model_selection import train_test_split\n",
        "from sklearn.model_selection import GridSearchCV\n",
        "from sklearn.feature_selection import SelectFromModel\n",
        "from sklearn.metrics import classification_report\n",
        "from sklearn.metrics import confusion_matrix\n",
        "from sklearn.metrics import accuracy_score\n",
        "from sklearn.metrics import roc_curve, auc"
      ],
      "execution_count": 56,
      "outputs": []
    },
    {
      "cell_type": "markdown",
      "metadata": {
        "id": "MhZqgRCn6oem",
        "colab_type": "text"
      },
      "source": [
        "### Step 2. Import the dataset"
      ]
    },
    {
      "cell_type": "code",
      "metadata": {
        "scrolled": false,
        "id": "8xXyyGsd6oeo",
        "colab_type": "code",
        "colab": {
          "base_uri": "https://localhost:8080/",
          "height": 969
        },
        "outputId": "235e3890-35ac-4da1-e4f1-cb4279b065dd"
      },
      "source": [
        "# Import the data\n",
        "df = pd.read_csv('NY_Accidents.csv')\n",
        "df.info()"
      ],
      "execution_count": 57,
      "outputs": [
        {
          "output_type": "stream",
          "text": [
            "<class 'pandas.core.frame.DataFrame'>\n",
            "RangeIndex: 999 entries, 0 to 998\n",
            "Data columns (total 49 columns):\n",
            " #   Column                 Non-Null Count  Dtype  \n",
            "---  ------                 --------------  -----  \n",
            " 0   ID                     999 non-null    object \n",
            " 1   Source                 999 non-null    object \n",
            " 2   TMC                    999 non-null    int64  \n",
            " 3   Severity               999 non-null    int64  \n",
            " 4   Start_Time             999 non-null    object \n",
            " 5   End_Time               999 non-null    object \n",
            " 6   Start_Lat              999 non-null    float64\n",
            " 7   Start_Lng              999 non-null    float64\n",
            " 8   End_Lat                0 non-null      float64\n",
            " 9   End_Lng                0 non-null      float64\n",
            " 10  Distance(mi)           999 non-null    float64\n",
            " 11  Description            999 non-null    object \n",
            " 12  Number                 237 non-null    float64\n",
            " 13  Street                 999 non-null    object \n",
            " 14  Side                   999 non-null    object \n",
            " 15  City                   999 non-null    object \n",
            " 16  County                 999 non-null    object \n",
            " 17  State                  999 non-null    object \n",
            " 18  Zipcode                999 non-null    object \n",
            " 19  Country                999 non-null    object \n",
            " 20  Timezone               999 non-null    object \n",
            " 21  Airport_Code           999 non-null    object \n",
            " 22  Weather_Timestamp      999 non-null    object \n",
            " 23  Temperature(F)         999 non-null    float64\n",
            " 24  Wind_Chill(F)          691 non-null    float64\n",
            " 25  Humidity(%)            999 non-null    int64  \n",
            " 26  Pressure(in)           990 non-null    float64\n",
            " 27  Visibility(mi)         939 non-null    float64\n",
            " 28  Wind_Direction         999 non-null    object \n",
            " 29  Wind_Speed(mph)        883 non-null    float64\n",
            " 30  Precipitation(in)      210 non-null    float64\n",
            " 31  Weather_Condition      991 non-null    object \n",
            " 32  Amenity                999 non-null    bool   \n",
            " 33  Bump                   999 non-null    bool   \n",
            " 34  Crossing               999 non-null    bool   \n",
            " 35  Give_Way               999 non-null    bool   \n",
            " 36  Junction               999 non-null    bool   \n",
            " 37  No_Exit                999 non-null    bool   \n",
            " 38  Railway                999 non-null    bool   \n",
            " 39  Roundabout             999 non-null    bool   \n",
            " 40  Station                999 non-null    bool   \n",
            " 41  Stop                   999 non-null    bool   \n",
            " 42  Traffic_Calming        999 non-null    bool   \n",
            " 43  Traffic_Signal         999 non-null    bool   \n",
            " 44  Turning_Loop           999 non-null    bool   \n",
            " 45  Sunrise_Sunset         999 non-null    object \n",
            " 46  Civil_Twilight         999 non-null    object \n",
            " 47  Nautical_Twilight      999 non-null    object \n",
            " 48  Astronomical_Twilight  999 non-null    object \n",
            "dtypes: bool(13), float64(12), int64(3), object(21)\n",
            "memory usage: 293.8+ KB\n"
          ],
          "name": "stdout"
        }
      ]
    },
    {
      "cell_type": "markdown",
      "metadata": {
        "id": "-kTGXjMz6oew",
        "colab_type": "text"
      },
      "source": [
        "### Step 3. Extract year, month, day, hour, weekday, and time to clear accidents"
      ]
    },
    {
      "cell_type": "code",
      "metadata": {
        "scrolled": true,
        "id": "AKFpHwwq6oey",
        "colab_type": "code",
        "colab": {
          "base_uri": "https://localhost:8080/",
          "height": 1000
        },
        "outputId": "418e41bd-49f0-481f-8a5a-6ef00ac757c1"
      },
      "source": [
        "# Convert Start_Time and End_Time to datetypes\n",
        "df['Start_Time'] = pd.to_datetime(df['Start_Time'], errors='coerce')\n",
        "df['End_Time'] = pd.to_datetime(df['End_Time'], errors='coerce')\n",
        "\n",
        "# Extract year, month, day, hour and weekday\n",
        "df['Year']=df['Start_Time'].dt.year\n",
        "df['Month']=df['Start_Time'].dt.strftime('%b')\n",
        "df['Day']=df['Start_Time'].dt.day\n",
        "df['Hour']=df['Start_Time'].dt.hour\n",
        "df['Weekday']=df['Start_Time'].dt.strftime('%a')\n",
        "\n",
        "# Extract the amount of time in the unit of minutes for each accident, round to the nearest integer\n",
        "td='Time_Duration(min)'\n",
        "df[td]=round((df['End_Time']-df['Start_Time'])/np.timedelta64(1,'m'))\n",
        "df.info()"
      ],
      "execution_count": 58,
      "outputs": [
        {
          "output_type": "stream",
          "text": [
            "<class 'pandas.core.frame.DataFrame'>\n",
            "RangeIndex: 999 entries, 0 to 998\n",
            "Data columns (total 55 columns):\n",
            " #   Column                 Non-Null Count  Dtype         \n",
            "---  ------                 --------------  -----         \n",
            " 0   ID                     999 non-null    object        \n",
            " 1   Source                 999 non-null    object        \n",
            " 2   TMC                    999 non-null    int64         \n",
            " 3   Severity               999 non-null    int64         \n",
            " 4   Start_Time             999 non-null    datetime64[ns]\n",
            " 5   End_Time               999 non-null    datetime64[ns]\n",
            " 6   Start_Lat              999 non-null    float64       \n",
            " 7   Start_Lng              999 non-null    float64       \n",
            " 8   End_Lat                0 non-null      float64       \n",
            " 9   End_Lng                0 non-null      float64       \n",
            " 10  Distance(mi)           999 non-null    float64       \n",
            " 11  Description            999 non-null    object        \n",
            " 12  Number                 237 non-null    float64       \n",
            " 13  Street                 999 non-null    object        \n",
            " 14  Side                   999 non-null    object        \n",
            " 15  City                   999 non-null    object        \n",
            " 16  County                 999 non-null    object        \n",
            " 17  State                  999 non-null    object        \n",
            " 18  Zipcode                999 non-null    object        \n",
            " 19  Country                999 non-null    object        \n",
            " 20  Timezone               999 non-null    object        \n",
            " 21  Airport_Code           999 non-null    object        \n",
            " 22  Weather_Timestamp      999 non-null    object        \n",
            " 23  Temperature(F)         999 non-null    float64       \n",
            " 24  Wind_Chill(F)          691 non-null    float64       \n",
            " 25  Humidity(%)            999 non-null    int64         \n",
            " 26  Pressure(in)           990 non-null    float64       \n",
            " 27  Visibility(mi)         939 non-null    float64       \n",
            " 28  Wind_Direction         999 non-null    object        \n",
            " 29  Wind_Speed(mph)        883 non-null    float64       \n",
            " 30  Precipitation(in)      210 non-null    float64       \n",
            " 31  Weather_Condition      991 non-null    object        \n",
            " 32  Amenity                999 non-null    bool          \n",
            " 33  Bump                   999 non-null    bool          \n",
            " 34  Crossing               999 non-null    bool          \n",
            " 35  Give_Way               999 non-null    bool          \n",
            " 36  Junction               999 non-null    bool          \n",
            " 37  No_Exit                999 non-null    bool          \n",
            " 38  Railway                999 non-null    bool          \n",
            " 39  Roundabout             999 non-null    bool          \n",
            " 40  Station                999 non-null    bool          \n",
            " 41  Stop                   999 non-null    bool          \n",
            " 42  Traffic_Calming        999 non-null    bool          \n",
            " 43  Traffic_Signal         999 non-null    bool          \n",
            " 44  Turning_Loop           999 non-null    bool          \n",
            " 45  Sunrise_Sunset         999 non-null    object        \n",
            " 46  Civil_Twilight         999 non-null    object        \n",
            " 47  Nautical_Twilight      999 non-null    object        \n",
            " 48  Astronomical_Twilight  999 non-null    object        \n",
            " 49  Year                   999 non-null    int64         \n",
            " 50  Month                  999 non-null    object        \n",
            " 51  Day                    999 non-null    int64         \n",
            " 52  Hour                   999 non-null    int64         \n",
            " 53  Weekday                999 non-null    object        \n",
            " 54  Time_Duration(min)     999 non-null    float64       \n",
            "dtypes: bool(13), datetime64[ns](2), float64(13), int64(6), object(21)\n",
            "memory usage: 340.6+ KB\n"
          ],
          "name": "stdout"
        }
      ]
    },
    {
      "cell_type": "markdown",
      "metadata": {
        "id": "92Gy5vKc6oe6",
        "colab_type": "text"
      },
      "source": [
        "### Step 4. Deal with outliers\n",
        "\n",
        "#### A. Drop rows with severity-0"
      ]
    },
    {
      "cell_type": "code",
      "metadata": {
        "id": "O6EtQHOv6oe8",
        "colab_type": "code",
        "colab": {}
      },
      "source": [
        "df=df[df.Severity != 0]"
      ],
      "execution_count": 59,
      "outputs": []
    },
    {
      "cell_type": "markdown",
      "metadata": {
        "id": "1TRze9Bv6ofE",
        "colab_type": "text"
      },
      "source": [
        "### Step 4. Deal with outliers\n",
        "\n",
        "#### B. Drop rows with negative time_duration"
      ]
    },
    {
      "cell_type": "code",
      "metadata": {
        "id": "qh1DT-uW6ofF",
        "colab_type": "code",
        "colab": {
          "base_uri": "https://localhost:8080/",
          "height": 34
        },
        "outputId": "b298bb18-9d85-4014-ac93-cd833ad8ea10"
      },
      "source": [
        "# Check if there is any negative time_duration values\n",
        "df[td][df[td]<=0]"
      ],
      "execution_count": 60,
      "outputs": [
        {
          "output_type": "execute_result",
          "data": {
            "text/plain": [
              "Series([], Name: Time_Duration(min), dtype: float64)"
            ]
          },
          "metadata": {
            "tags": []
          },
          "execution_count": 60
        }
      ]
    },
    {
      "cell_type": "code",
      "metadata": {
        "id": "irMmiI1_6ofN",
        "colab_type": "code",
        "colab": {
          "base_uri": "https://localhost:8080/",
          "height": 1000
        },
        "outputId": "e05e0ea9-4831-48b0-ddac-051dd5f8b901"
      },
      "source": [
        "# Drop the rows with td<0\n",
        "\n",
        "neg_outliers=df[td]<=0\n",
        "\n",
        "# Set outliers to NAN\n",
        "df[neg_outliers] = np.nan\n",
        "\n",
        "# Drop rows with negative td\n",
        "df.dropna(subset=[td],axis=0,inplace=True)\n",
        "\n",
        "df.info()"
      ],
      "execution_count": 61,
      "outputs": [
        {
          "output_type": "stream",
          "text": [
            "<class 'pandas.core.frame.DataFrame'>\n",
            "Int64Index: 999 entries, 0 to 998\n",
            "Data columns (total 55 columns):\n",
            " #   Column                 Non-Null Count  Dtype         \n",
            "---  ------                 --------------  -----         \n",
            " 0   ID                     999 non-null    object        \n",
            " 1   Source                 999 non-null    object        \n",
            " 2   TMC                    999 non-null    float64       \n",
            " 3   Severity               999 non-null    float64       \n",
            " 4   Start_Time             999 non-null    datetime64[ns]\n",
            " 5   End_Time               999 non-null    datetime64[ns]\n",
            " 6   Start_Lat              999 non-null    float64       \n",
            " 7   Start_Lng              999 non-null    float64       \n",
            " 8   End_Lat                0 non-null      float64       \n",
            " 9   End_Lng                0 non-null      float64       \n",
            " 10  Distance(mi)           999 non-null    float64       \n",
            " 11  Description            999 non-null    object        \n",
            " 12  Number                 237 non-null    float64       \n",
            " 13  Street                 999 non-null    object        \n",
            " 14  Side                   999 non-null    object        \n",
            " 15  City                   999 non-null    object        \n",
            " 16  County                 999 non-null    object        \n",
            " 17  State                  999 non-null    object        \n",
            " 18  Zipcode                999 non-null    object        \n",
            " 19  Country                999 non-null    object        \n",
            " 20  Timezone               999 non-null    object        \n",
            " 21  Airport_Code           999 non-null    object        \n",
            " 22  Weather_Timestamp      999 non-null    object        \n",
            " 23  Temperature(F)         999 non-null    float64       \n",
            " 24  Wind_Chill(F)          691 non-null    float64       \n",
            " 25  Humidity(%)            999 non-null    float64       \n",
            " 26  Pressure(in)           990 non-null    float64       \n",
            " 27  Visibility(mi)         939 non-null    float64       \n",
            " 28  Wind_Direction         999 non-null    object        \n",
            " 29  Wind_Speed(mph)        883 non-null    float64       \n",
            " 30  Precipitation(in)      210 non-null    float64       \n",
            " 31  Weather_Condition      991 non-null    object        \n",
            " 32  Amenity                999 non-null    float64       \n",
            " 33  Bump                   999 non-null    float64       \n",
            " 34  Crossing               999 non-null    float64       \n",
            " 35  Give_Way               999 non-null    float64       \n",
            " 36  Junction               999 non-null    float64       \n",
            " 37  No_Exit                999 non-null    float64       \n",
            " 38  Railway                999 non-null    float64       \n",
            " 39  Roundabout             999 non-null    float64       \n",
            " 40  Station                999 non-null    float64       \n",
            " 41  Stop                   999 non-null    float64       \n",
            " 42  Traffic_Calming        999 non-null    float64       \n",
            " 43  Traffic_Signal         999 non-null    float64       \n",
            " 44  Turning_Loop           999 non-null    float64       \n",
            " 45  Sunrise_Sunset         999 non-null    object        \n",
            " 46  Civil_Twilight         999 non-null    object        \n",
            " 47  Nautical_Twilight      999 non-null    object        \n",
            " 48  Astronomical_Twilight  999 non-null    object        \n",
            " 49  Year                   999 non-null    float64       \n",
            " 50  Month                  999 non-null    object        \n",
            " 51  Day                    999 non-null    float64       \n",
            " 52  Hour                   999 non-null    float64       \n",
            " 53  Weekday                999 non-null    object        \n",
            " 54  Time_Duration(min)     999 non-null    float64       \n",
            "dtypes: datetime64[ns](2), float64(32), object(21)\n",
            "memory usage: 437.1+ KB\n"
          ],
          "name": "stdout"
        }
      ]
    },
    {
      "cell_type": "code",
      "metadata": {
        "id": "qA4r_kHQ6ofU",
        "colab_type": "code",
        "colab": {
          "base_uri": "https://localhost:8080/",
          "height": 34
        },
        "outputId": "bf8a7db6-291b-4268-fe63-74af612724b1"
      },
      "source": [
        "# Double check to make sure no more negative td\n",
        "df[td][df[td]<=0]"
      ],
      "execution_count": 62,
      "outputs": [
        {
          "output_type": "execute_result",
          "data": {
            "text/plain": [
              "Series([], Name: Time_Duration(min), dtype: float64)"
            ]
          },
          "metadata": {
            "tags": []
          },
          "execution_count": 62
        }
      ]
    },
    {
      "cell_type": "markdown",
      "metadata": {
        "id": "X1x0Qn776ofb",
        "colab_type": "text"
      },
      "source": [
        "### Step 4. Deal with outliers\n",
        "\n",
        "#### C. Fill outliers with median values"
      ]
    },
    {
      "cell_type": "code",
      "metadata": {
        "id": "7O2YkuNm6ofc",
        "colab_type": "code",
        "colab": {
          "base_uri": "https://localhost:8080/",
          "height": 1000
        },
        "outputId": "69382286-b746-4f8d-f816-48aa11e4e927"
      },
      "source": [
        "# Remove outliers for Time_Duration(min): n * standard_deviation (n=3), backfill with median\n",
        "\n",
        "n=3\n",
        "\n",
        "median = df[td].median()\n",
        "std = df[td].std()\n",
        "outliers = (df[td] - median).abs() > std*n\n",
        "\n",
        "# Set outliers to NAN\n",
        "df[outliers] = np.nan\n",
        "\n",
        "# Fill NAN with median\n",
        "df[td].fillna(median, inplace=True)\n",
        "df.info()"
      ],
      "execution_count": 63,
      "outputs": [
        {
          "output_type": "stream",
          "text": [
            "<class 'pandas.core.frame.DataFrame'>\n",
            "Int64Index: 999 entries, 0 to 998\n",
            "Data columns (total 55 columns):\n",
            " #   Column                 Non-Null Count  Dtype         \n",
            "---  ------                 --------------  -----         \n",
            " 0   ID                     997 non-null    object        \n",
            " 1   Source                 997 non-null    object        \n",
            " 2   TMC                    997 non-null    float64       \n",
            " 3   Severity               997 non-null    float64       \n",
            " 4   Start_Time             997 non-null    datetime64[ns]\n",
            " 5   End_Time               997 non-null    datetime64[ns]\n",
            " 6   Start_Lat              997 non-null    float64       \n",
            " 7   Start_Lng              997 non-null    float64       \n",
            " 8   End_Lat                0 non-null      float64       \n",
            " 9   End_Lng                0 non-null      float64       \n",
            " 10  Distance(mi)           997 non-null    float64       \n",
            " 11  Description            997 non-null    object        \n",
            " 12  Number                 237 non-null    float64       \n",
            " 13  Street                 997 non-null    object        \n",
            " 14  Side                   997 non-null    object        \n",
            " 15  City                   997 non-null    object        \n",
            " 16  County                 997 non-null    object        \n",
            " 17  State                  997 non-null    object        \n",
            " 18  Zipcode                997 non-null    object        \n",
            " 19  Country                997 non-null    object        \n",
            " 20  Timezone               997 non-null    object        \n",
            " 21  Airport_Code           997 non-null    object        \n",
            " 22  Weather_Timestamp      997 non-null    object        \n",
            " 23  Temperature(F)         997 non-null    float64       \n",
            " 24  Wind_Chill(F)          690 non-null    float64       \n",
            " 25  Humidity(%)            997 non-null    float64       \n",
            " 26  Pressure(in)           988 non-null    float64       \n",
            " 27  Visibility(mi)         937 non-null    float64       \n",
            " 28  Wind_Direction         997 non-null    object        \n",
            " 29  Wind_Speed(mph)        882 non-null    float64       \n",
            " 30  Precipitation(in)      210 non-null    float64       \n",
            " 31  Weather_Condition      989 non-null    object        \n",
            " 32  Amenity                997 non-null    float64       \n",
            " 33  Bump                   997 non-null    float64       \n",
            " 34  Crossing               997 non-null    float64       \n",
            " 35  Give_Way               997 non-null    float64       \n",
            " 36  Junction               997 non-null    float64       \n",
            " 37  No_Exit                997 non-null    float64       \n",
            " 38  Railway                997 non-null    float64       \n",
            " 39  Roundabout             997 non-null    float64       \n",
            " 40  Station                997 non-null    float64       \n",
            " 41  Stop                   997 non-null    float64       \n",
            " 42  Traffic_Calming        997 non-null    float64       \n",
            " 43  Traffic_Signal         997 non-null    float64       \n",
            " 44  Turning_Loop           997 non-null    float64       \n",
            " 45  Sunrise_Sunset         997 non-null    object        \n",
            " 46  Civil_Twilight         997 non-null    object        \n",
            " 47  Nautical_Twilight      997 non-null    object        \n",
            " 48  Astronomical_Twilight  997 non-null    object        \n",
            " 49  Year                   997 non-null    float64       \n",
            " 50  Month                  997 non-null    object        \n",
            " 51  Day                    997 non-null    float64       \n",
            " 52  Hour                   997 non-null    float64       \n",
            " 53  Weekday                997 non-null    object        \n",
            " 54  Time_Duration(min)     999 non-null    float64       \n",
            "dtypes: datetime64[ns](2), float64(32), object(21)\n",
            "memory usage: 437.1+ KB\n"
          ],
          "name": "stdout"
        }
      ]
    },
    {
      "cell_type": "code",
      "metadata": {
        "id": "hbnEVaOE6ofi",
        "colab_type": "code",
        "colab": {
          "base_uri": "https://localhost:8080/",
          "height": 34
        },
        "outputId": "7e2c9b4d-4cce-4f91-a93c-dbf4a00e37d6"
      },
      "source": [
        "# Print time_duration information\n",
        "print('Max time to clear an accident: {} minutes or {} hours or {} days; Min to clear an accident td: {} minutes.'.format(df[td].max(),round(df[td].max()/60), round(df[td].max()/60/24), df[td].min()))"
      ],
      "execution_count": 64,
      "outputs": [
        {
          "output_type": "stream",
          "text": [
            "Max time to clear an accident: 165.0 minutes or 3 hours or 0 days; Min to clear an accident td: 22.0 minutes.\n"
          ],
          "name": "stdout"
        }
      ]
    },
    {
      "cell_type": "markdown",
      "metadata": {
        "id": "f05cuSw-6ofq",
        "colab_type": "text"
      },
      "source": [
        "### Step 5. Select a list of features for machine learning algorithms\n",
        "\n",
        " Only select relavant columns without overwhelming the computer"
      ]
    },
    {
      "cell_type": "code",
      "metadata": {
        "id": "4LTON_I76ofr",
        "colab_type": "code",
        "colab": {}
      },
      "source": [
        "# Set the list of features to include in Machine Learning\n",
        "feature_lst=['Source','TMC','Severity','Start_Lng','Start_Lat','Distance(mi)','Side','City','County','State','Timezone','Temperature(F)','Humidity(%)','Pressure(in)', 'Visibility(mi)', 'Wind_Direction','Weather_Condition','Amenity','Bump','Crossing','Give_Way','Junction','No_Exit','Railway','Roundabout','Station','Stop','Traffic_Calming','Traffic_Signal','Turning_Loop','Sunrise_Sunset','Hour','Weekday', 'Time_Duration(min)']"
      ],
      "execution_count": 65,
      "outputs": []
    },
    {
      "cell_type": "code",
      "metadata": {
        "scrolled": true,
        "id": "PMAKELuz6ofv",
        "colab_type": "code",
        "colab": {
          "base_uri": "https://localhost:8080/",
          "height": 714
        },
        "outputId": "04536534-55ab-4c54-ef53-1007e97c709b"
      },
      "source": [
        "# Select the dataset to include only the selected features\n",
        "df_sel=df[feature_lst].copy()\n",
        "df_sel.info()"
      ],
      "execution_count": 66,
      "outputs": [
        {
          "output_type": "stream",
          "text": [
            "<class 'pandas.core.frame.DataFrame'>\n",
            "Int64Index: 999 entries, 0 to 998\n",
            "Data columns (total 34 columns):\n",
            " #   Column              Non-Null Count  Dtype  \n",
            "---  ------              --------------  -----  \n",
            " 0   Source              997 non-null    object \n",
            " 1   TMC                 997 non-null    float64\n",
            " 2   Severity            997 non-null    float64\n",
            " 3   Start_Lng           997 non-null    float64\n",
            " 4   Start_Lat           997 non-null    float64\n",
            " 5   Distance(mi)        997 non-null    float64\n",
            " 6   Side                997 non-null    object \n",
            " 7   City                997 non-null    object \n",
            " 8   County              997 non-null    object \n",
            " 9   State               997 non-null    object \n",
            " 10  Timezone            997 non-null    object \n",
            " 11  Temperature(F)      997 non-null    float64\n",
            " 12  Humidity(%)         997 non-null    float64\n",
            " 13  Pressure(in)        988 non-null    float64\n",
            " 14  Visibility(mi)      937 non-null    float64\n",
            " 15  Wind_Direction      997 non-null    object \n",
            " 16  Weather_Condition   989 non-null    object \n",
            " 17  Amenity             997 non-null    float64\n",
            " 18  Bump                997 non-null    float64\n",
            " 19  Crossing            997 non-null    float64\n",
            " 20  Give_Way            997 non-null    float64\n",
            " 21  Junction            997 non-null    float64\n",
            " 22  No_Exit             997 non-null    float64\n",
            " 23  Railway             997 non-null    float64\n",
            " 24  Roundabout          997 non-null    float64\n",
            " 25  Station             997 non-null    float64\n",
            " 26  Stop                997 non-null    float64\n",
            " 27  Traffic_Calming     997 non-null    float64\n",
            " 28  Traffic_Signal      997 non-null    float64\n",
            " 29  Turning_Loop        997 non-null    float64\n",
            " 30  Sunrise_Sunset      997 non-null    object \n",
            " 31  Hour                997 non-null    float64\n",
            " 32  Weekday             997 non-null    object \n",
            " 33  Time_Duration(min)  999 non-null    float64\n",
            "dtypes: float64(24), object(10)\n",
            "memory usage: 273.2+ KB\n"
          ],
          "name": "stdout"
        }
      ]
    },
    {
      "cell_type": "markdown",
      "metadata": {
        "id": "b80kkFcY6of4",
        "colab_type": "text"
      },
      "source": [
        "### Step 6. Drop rows with missing values"
      ]
    },
    {
      "cell_type": "code",
      "metadata": {
        "id": "3yXVJzfO6of5",
        "colab_type": "code",
        "colab": {
          "base_uri": "https://localhost:8080/",
          "height": 612
        },
        "outputId": "c3620283-b8e4-4d5b-e83d-b86ac10519a3"
      },
      "source": [
        "# Check missing values\n",
        "df_sel.isnull().mean()"
      ],
      "execution_count": 67,
      "outputs": [
        {
          "output_type": "execute_result",
          "data": {
            "text/plain": [
              "Source                0.002002\n",
              "TMC                   0.002002\n",
              "Severity              0.002002\n",
              "Start_Lng             0.002002\n",
              "Start_Lat             0.002002\n",
              "Distance(mi)          0.002002\n",
              "Side                  0.002002\n",
              "City                  0.002002\n",
              "County                0.002002\n",
              "State                 0.002002\n",
              "Timezone              0.002002\n",
              "Temperature(F)        0.002002\n",
              "Humidity(%)           0.002002\n",
              "Pressure(in)          0.011011\n",
              "Visibility(mi)        0.062062\n",
              "Wind_Direction        0.002002\n",
              "Weather_Condition     0.010010\n",
              "Amenity               0.002002\n",
              "Bump                  0.002002\n",
              "Crossing              0.002002\n",
              "Give_Way              0.002002\n",
              "Junction              0.002002\n",
              "No_Exit               0.002002\n",
              "Railway               0.002002\n",
              "Roundabout            0.002002\n",
              "Station               0.002002\n",
              "Stop                  0.002002\n",
              "Traffic_Calming       0.002002\n",
              "Traffic_Signal        0.002002\n",
              "Turning_Loop          0.002002\n",
              "Sunrise_Sunset        0.002002\n",
              "Hour                  0.002002\n",
              "Weekday               0.002002\n",
              "Time_Duration(min)    0.000000\n",
              "dtype: float64"
            ]
          },
          "metadata": {
            "tags": []
          },
          "execution_count": 67
        }
      ]
    },
    {
      "cell_type": "code",
      "metadata": {
        "scrolled": true,
        "id": "hEn_YMr96of9",
        "colab_type": "code",
        "colab": {
          "base_uri": "https://localhost:8080/",
          "height": 34
        },
        "outputId": "bb31f7ff-6ad4-4765-cfb2-943eff26543f"
      },
      "source": [
        "df_sel.dropna(subset=df_sel.columns[df_sel.isnull().mean()!=0], how='any', axis=0, inplace=True)\n",
        "df_sel.shape"
      ],
      "execution_count": 68,
      "outputs": [
        {
          "output_type": "execute_result",
          "data": {
            "text/plain": [
              "(935, 34)"
            ]
          },
          "metadata": {
            "tags": []
          },
          "execution_count": 68
        }
      ]
    },
    {
      "cell_type": "code",
      "metadata": {
        "id": "YUo_fgk26ogJ",
        "colab_type": "code",
        "colab": {
          "base_uri": "https://localhost:8080/",
          "height": 748
        },
        "outputId": "8fed2cf7-a672-4b1e-c81d-815c4847af12"
      },
      "source": [
        "\n",
        "# Set state\n",
        "state='NY'\n",
        "\n",
        "# Select the state of Pennsylvania\n",
        "df_state=df_sel.loc[df_sel.State==state]\n",
        "df_state.drop('State',axis=1, inplace=True)\n",
        "df_state.info()\n",
        "\n",
        "# Check how many groups of severity and the number of accidents in each group \n",
        "df_state.Severity.value_counts().sort_values(ascending=False)"
      ],
      "execution_count": 92,
      "outputs": [
        {
          "output_type": "stream",
          "text": [
            "<class 'pandas.core.frame.DataFrame'>\n",
            "Int64Index: 935 entries, 0 to 998\n",
            "Data columns (total 33 columns):\n",
            " #   Column              Non-Null Count  Dtype  \n",
            "---  ------              --------------  -----  \n",
            " 0   Source              935 non-null    object \n",
            " 1   TMC                 935 non-null    float64\n",
            " 2   Severity            935 non-null    float64\n",
            " 3   Start_Lng           935 non-null    float64\n",
            " 4   Start_Lat           935 non-null    float64\n",
            " 5   Distance(mi)        935 non-null    float64\n",
            " 6   Side                935 non-null    object \n",
            " 7   City                935 non-null    object \n",
            " 8   County              935 non-null    object \n",
            " 9   Timezone            935 non-null    object \n",
            " 10  Temperature(F)      935 non-null    float64\n",
            " 11  Humidity(%)         935 non-null    float64\n",
            " 12  Pressure(in)        935 non-null    float64\n",
            " 13  Visibility(mi)      935 non-null    float64\n",
            " 14  Wind_Direction      935 non-null    object \n",
            " 15  Weather_Condition   935 non-null    object \n",
            " 16  Amenity             935 non-null    float64\n",
            " 17  Bump                935 non-null    float64\n",
            " 18  Crossing            935 non-null    float64\n",
            " 19  Give_Way            935 non-null    float64\n",
            " 20  Junction            935 non-null    float64\n",
            " 21  No_Exit             935 non-null    float64\n",
            " 22  Railway             935 non-null    float64\n",
            " 23  Roundabout          935 non-null    float64\n",
            " 24  Station             935 non-null    float64\n",
            " 25  Stop                935 non-null    float64\n",
            " 26  Traffic_Calming     935 non-null    float64\n",
            " 27  Traffic_Signal      935 non-null    float64\n",
            " 28  Turning_Loop        935 non-null    float64\n",
            " 29  Sunrise_Sunset      935 non-null    object \n",
            " 30  Hour                935 non-null    float64\n",
            " 31  Weekday             935 non-null    object \n",
            " 32  Time_Duration(min)  935 non-null    float64\n",
            "dtypes: float64(24), object(9)\n",
            "memory usage: 248.4+ KB\n"
          ],
          "name": "stdout"
        },
        {
          "output_type": "execute_result",
          "data": {
            "text/plain": [
              "2.0    505\n",
              "3.0    430\n",
              "Name: Severity, dtype: int64"
            ]
          },
          "metadata": {
            "tags": []
          },
          "execution_count": 92
        }
      ]
    },
    {
      "cell_type": "code",
      "metadata": {
        "scrolled": false,
        "id": "ojAPduIJ6ogM",
        "colab_type": "code",
        "colab": {
          "base_uri": "https://localhost:8080/",
          "height": 282
        },
        "outputId": "7b08d02a-8c1f-4579-bcbd-f28215775443"
      },
      "source": [
        "# Map of accidents, color code by county\n",
        "\n",
        "sns.scatterplot(x='Start_Lng', y='Start_Lat', data=df_state, hue='County', legend=False, s=20)\n",
        "plt.show()"
      ],
      "execution_count": 91,
      "outputs": [
        {
          "output_type": "display_data",
          "data": {
            "image/png": "[encoded data removed]",
            "text/plain": [
              "<Figure size 432x288 with 1 Axes>"
            ]
          },
          "metadata": {
            "tags": []
          }
        }
      ]
    },
    {
      "cell_type": "markdown",
      "metadata": {
        "id": "IY-7tZl96ogP",
        "colab_type": "text"
      },
      "source": [
        "### Step 7. Deal with categorical data: pd.get_dummies()\n"
      ]
    },
    {
      "cell_type": "code",
      "metadata": {
        "id": "_Z2nq1sj6ogP",
        "colab_type": "code",
        "colab": {
          "base_uri": "https://localhost:8080/",
          "height": 102
        },
        "outputId": "90f4ad36-d62e-461d-c11a-bbb1b82512ae"
      },
      "source": [
        "# Generate dummies for categorical data\n",
        "df_state_dummy = pd.get_dummies(df_state,drop_first=True)\n",
        "\n",
        "# Export data\n",
        "df_state_dummy.to_csv('./US_Accidents_May19_{}_dummy.csv'.format(state),index=False)\n",
        "\n",
        "df_state_dummy.info()"
      ],
      "execution_count": 71,
      "outputs": [
        {
          "output_type": "stream",
          "text": [
            "<class 'pandas.core.frame.DataFrame'>\n",
            "Int64Index: 935 entries, 0 to 998\n",
            "Columns: 290 entries, TMC to Weekday_Wed\n",
            "dtypes: float64(24), uint8(266)\n",
            "memory usage: 425.5 KB\n"
          ],
          "name": "stdout"
        }
      ]
    },
    {
      "cell_type": "markdown",
      "metadata": {
        "id": "uuBjNfFc6ogS",
        "colab_type": "text"
      },
      "source": [
        "### Step 8. Predict the accident severity with various supervised machine learning algorithms\n",
        "\n",
        "#### Data preparation: train_test_split"
      ]
    },
    {
      "cell_type": "code",
      "metadata": {
        "id": "egF3thQ56ogT",
        "colab_type": "code",
        "colab": {}
      },
      "source": [
        "# Assign the data\n",
        "df=df_state_dummy\n",
        "\n",
        "\n",
        "# Set the target for the prediction\n",
        "target='Severity'\n",
        "\n",
        "\n",
        "\n",
        "# Create arrays for the features and the response variable\n",
        "\n",
        "# set X and y\n",
        "y = df[target]\n",
        "X = df.drop(target, axis=1)"
      ],
      "execution_count": 72,
      "outputs": []
    },
    {
      "cell_type": "code",
      "metadata": {
        "id": "qBmWFlPi6ogV",
        "colab_type": "code",
        "colab": {
          "base_uri": "https://localhost:8080/",
          "height": 34
        },
        "outputId": "6cdaa949-efc2-4cdb-b120-b7c07eaed719"
      },
      "source": [
        "y.unique()"
      ],
      "execution_count": 73,
      "outputs": [
        {
          "output_type": "execute_result",
          "data": {
            "text/plain": [
              "array([3., 2.])"
            ]
          },
          "metadata": {
            "tags": []
          },
          "execution_count": 73
        }
      ]
    },
    {
      "cell_type": "code",
      "metadata": {
        "id": "jiEBmEzu6ogY",
        "colab_type": "code",
        "colab": {
          "base_uri": "https://localhost:8080/",
          "height": 68
        },
        "outputId": "d3fa3905-5d7f-4804-b57d-9c93a37bf0e8"
      },
      "source": [
        "y.value_counts()"
      ],
      "execution_count": 74,
      "outputs": [
        {
          "output_type": "execute_result",
          "data": {
            "text/plain": [
              "2.0    505\n",
              "3.0    430\n",
              "Name: Severity, dtype: int64"
            ]
          },
          "metadata": {
            "tags": []
          },
          "execution_count": 74
        }
      ]
    },
    {
      "cell_type": "code",
      "metadata": {
        "id": "YSv6mnhU6oga",
        "colab_type": "code",
        "colab": {}
      },
      "source": [
        "# Split the data set into training and testing data sets\n",
        "X_train, X_test, y_train, y_test = train_test_split(X, y, test_size=0.2, random_state=21, stratify=y)"
      ],
      "execution_count": 75,
      "outputs": []
    },
    {
      "cell_type": "code",
      "metadata": {
        "id": "h50-1rJs6ogc",
        "colab_type": "code",
        "colab": {}
      },
      "source": [
        "# List of classification algorithms\n",
        "algo_lst=['Logistic Regression',' K-Nearest Neighbors','Decision Trees','Random Forest']\n",
        "\n",
        "# Initialize an empty list for the accuracy for each algorithm\n",
        "accuracy_lst=[]"
      ],
      "execution_count": 76,
      "outputs": []
    },
    {
      "cell_type": "markdown",
      "metadata": {
        "id": "TlkBGRvI6oge",
        "colab_type": "text"
      },
      "source": [
        "### Step 9. Predict the accident severity with various supervised machine learning algorithms\n",
        "\n",
        "   #### Algorithm A. Logistic regression              "
      ]
    },
    {
      "cell_type": "code",
      "metadata": {
        "id": "W_gTMrzD6oge",
        "colab_type": "code",
        "colab": {
          "base_uri": "https://localhost:8080/",
          "height": 190
        },
        "outputId": "52896199-2b3d-4c24-d3b5-affee2e33db6"
      },
      "source": [
        "# Logistic regression\n",
        "lr = LogisticRegression(random_state=0)\n",
        "lr.fit(X_train,y_train)\n",
        "y_pred=lr.predict(X_test)\n",
        "\n",
        "# Get the accuracy score\n",
        "acc=accuracy_score(y_test, y_pred)\n",
        "\n",
        "# Append to the accuracy list\n",
        "accuracy_lst.append(acc)\n",
        "\n",
        "print(\"[Logistic regression algorithm] accuracy_score: {:.3f}.\".format(acc))"
      ],
      "execution_count": 77,
      "outputs": [
        {
          "output_type": "stream",
          "text": [
            "[Logistic regression algorithm] accuracy_score: 0.701.\n"
          ],
          "name": "stdout"
        },
        {
          "output_type": "stream",
          "text": [
            "/usr/local/lib/python3.6/dist-packages/sklearn/linear_model/_logistic.py:940: ConvergenceWarning: lbfgs failed to converge (status=1):\n",
            "STOP: TOTAL NO. of ITERATIONS REACHED LIMIT.\n",
            "\n",
            "Increase the number of iterations (max_iter) or scale the data as shown in:\n",
            "    https://scikit-learn.org/stable/modules/preprocessing.html\n",
            "Please also refer to the documentation for alternative solver options:\n",
            "    https://scikit-learn.org/stable/modules/linear_model.html#logistic-regression\n",
            "  extra_warning_msg=_LOGISTIC_SOLVER_CONVERGENCE_MSG)\n"
          ],
          "name": "stderr"
        }
      ]
    },
    {
      "cell_type": "markdown",
      "metadata": {
        "id": "Gx95izKL6ogg",
        "colab_type": "text"
      },
      "source": [
        "### Step 9. Predict the accident severity with various supervised machine learning algorithms\n",
        "\n",
        "   #### Algorithm B. The K-Nearest Neighbors (KNN) algorithm\n",
        "   ##### KNN with 6 neighors"
      ]
    },
    {
      "cell_type": "code",
      "metadata": {
        "id": "OxST0XmE6ogh",
        "colab_type": "code",
        "colab": {
          "base_uri": "https://localhost:8080/",
          "height": 51
        },
        "outputId": "3849cae5-58e1-487a-bbbb-03fe0a3035b9"
      },
      "source": [
        "# Create a k-NN classifier with 6 neighbors\n",
        "knn = KNeighborsClassifier(n_neighbors=6)\n",
        "\n",
        "# Fit the classifier to the data\n",
        "knn.fit(X_train,y_train)\n",
        "\n",
        "# Predict the labels for the training data X\n",
        "y_pred = knn.predict(X_test)\n",
        "\n",
        "# Get the accuracy score\n",
        "acc=accuracy_score(y_test, y_pred)\n",
        "\n",
        "# Append to the accuracy list\n",
        "accuracy_lst.append(acc)\n",
        "\n",
        "print('[K-Nearest Neighbors (KNN)] knn.score: {:.3f}.'.format(knn.score(X_test, y_test)))\n",
        "print('[K-Nearest Neighbors (KNN)] accuracy_score: {:.3f}.'.format(acc))"
      ],
      "execution_count": 78,
      "outputs": [
        {
          "output_type": "stream",
          "text": [
            "[K-Nearest Neighbors (KNN)] knn.score: 0.545.\n",
            "[K-Nearest Neighbors (KNN)] accuracy_score: 0.545.\n"
          ],
          "name": "stdout"
        }
      ]
    },
    {
      "cell_type": "markdown",
      "metadata": {
        "id": "zwpOi-J96ogj",
        "colab_type": "text"
      },
      "source": [
        "### Step 9. Predict the accident severity with various supervised machine learning algorithms\n",
        "\n",
        "   #### Algorithm B. The K-Nearest Neighbors (KNN) algorithm\n",
        "   ##### Optmize the number of neighors: plot the accuracy versus number of neighbors"
      ]
    },
    {
      "cell_type": "markdown",
      "metadata": {
        "scrolled": true,
        "id": "F9IUNT3_6ogj",
        "colab_type": "text"
      },
      "source": [
        "# Skip this cell\n",
        "\n",
        "\n",
        "# Setup arrays to store train and test accuracies\n",
        "neighbors = np.arange(1, 9)\n",
        "train_accuracy = np.empty(len(neighbors))\n",
        "test_accuracy = np.empty(len(neighbors))\n",
        "\n",
        "# Loop over different values of k\n",
        "for i, n_neighbor in enumerate(neighbors):\n",
        "    \n",
        "    # Setup a k-NN Classifier with n_neighbor\n",
        "    knn = KNeighborsClassifier(n_neighbors=n_neighbor)\n",
        "\n",
        "    # Fit the classifier to the training data\n",
        "    knn.fit(X_train,y_train)\n",
        "    \n",
        "    #Compute accuracy on the training set\n",
        "    train_accuracy[i] = knn.score(X_train, y_train)\n",
        "\n",
        "    #Compute accuracy on the testing set\n",
        "    test_accuracy[i] = knn.score(X_test, y_test)\n",
        "\n",
        "# Generate plot\n",
        "plt.title('k-NN: Varying Number of Neighbors')\n",
        "plt.plot(neighbors, test_accuracy, label = 'Testing Accuracy')\n",
        "plt.plot(neighbors, train_accuracy, label = 'Training Accuracy')\n",
        "plt.legend()\n",
        "plt.xlabel('Number of Neighbors')\n",
        "plt.ylabel('Accuracy')\n",
        "plt.show()\n",
        "\n"
      ]
    },
    {
      "cell_type": "markdown",
      "metadata": {
        "id": "DMMAYUz76ogk",
        "colab_type": "text"
      },
      "source": [
        "### Step 9. Predict the accident severity with various supervised machine learning algorithms\n",
        "\n",
        "   #### Algorithm C. Decision Tree                 "
      ]
    },
    {
      "cell_type": "code",
      "metadata": {
        "id": "N1eQwLzd6ogk",
        "colab_type": "code",
        "colab": {
          "base_uri": "https://localhost:8080/",
          "height": 51
        },
        "outputId": "7cc6d133-997d-4292-8380-0cdc564291d1"
      },
      "source": [
        "# Decision tree algorithm\n",
        "\n",
        "# Instantiate dt_entropy, set 'entropy' as the information criterion\n",
        "dt_entropy = DecisionTreeClassifier(max_depth=8, criterion='entropy', random_state=1)\n",
        "\n",
        "\n",
        "# Fit dt_entropy to the training set\n",
        "dt_entropy.fit(X_train, y_train)\n",
        "\n",
        "# Use dt_entropy to predict test set labels\n",
        "y_pred= dt_entropy.predict(X_test)\n",
        "\n",
        "# Evaluate accuracy_entropy\n",
        "accuracy_entropy = accuracy_score(y_test, y_pred)\n",
        "\n",
        "\n",
        "# Print accuracy_entropy\n",
        "print('[Decision Tree -- entropy] accuracy_score: {:.3f}.'.format(accuracy_entropy))\n",
        "\n",
        "\n",
        "\n",
        "# Instantiate dt_gini, set 'gini' as the information criterion\n",
        "dt_gini = DecisionTreeClassifier(max_depth=8, criterion='gini', random_state=1)\n",
        "\n",
        "\n",
        "# Fit dt_entropy to the training set\n",
        "dt_gini.fit(X_train, y_train)\n",
        "\n",
        "# Use dt_entropy to predict test set labels\n",
        "y_pred= dt_gini.predict(X_test)\n",
        "\n",
        "# Evaluate accuracy_entropy\n",
        "accuracy_gini = accuracy_score(y_test, y_pred)\n",
        "\n",
        "# Append to the accuracy list\n",
        "acc=accuracy_gini\n",
        "accuracy_lst.append(acc)\n",
        "\n",
        "# Print accuracy_gini\n",
        "print('[Decision Tree -- gini] accuracy_score: {:.3f}.'.format(accuracy_gini))"
      ],
      "execution_count": 79,
      "outputs": [
        {
          "output_type": "stream",
          "text": [
            "[Decision Tree -- entropy] accuracy_score: 0.754.\n",
            "[Decision Tree -- gini] accuracy_score: 0.711.\n"
          ],
          "name": "stdout"
        }
      ]
    },
    {
      "cell_type": "markdown",
      "metadata": {
        "id": "1oKNTbZS6ogm",
        "colab_type": "text"
      },
      "source": [
        "### Step 9. Predict the accident severity with various supervised machine learning algorithms\n",
        "\n",
        "   #### Algorithm D. Random Forest   \n",
        "   ##### n_estimators=100                 "
      ]
    },
    {
      "cell_type": "code",
      "metadata": {
        "id": "uZ37UM8d6ogm",
        "colab_type": "code",
        "colab": {
          "base_uri": "https://localhost:8080/",
          "height": 34
        },
        "outputId": "f816aa78-34ec-4290-ce57-f9c518793e64"
      },
      "source": [
        "# Random Forest algorithm\n",
        "\n",
        "#Create a Gaussian Classifier\n",
        "clf=RandomForestClassifier(n_estimators=100)\n",
        "\n",
        "#Train the model using the training sets y_pred=clf.predict(X_test)\n",
        "clf.fit(X_train,y_train)\n",
        "\n",
        "y_pred=clf.predict(X_test)\n",
        "\n",
        "\n",
        "# Get the accuracy score\n",
        "acc=accuracy_score(y_test, y_pred)\n",
        "\n",
        "# Append to the accuracy list\n",
        "accuracy_lst.append(acc)\n",
        "\n",
        "\n",
        "# Model Accuracy, how often is the classifier correct?\n",
        "print(\"[Randon forest algorithm] accuracy_score: {:.3f}.\".format(acc))\n"
      ],
      "execution_count": 80,
      "outputs": [
        {
          "output_type": "stream",
          "text": [
            "[Randon forest algorithm] accuracy_score: 0.791.\n"
          ],
          "name": "stdout"
        }
      ]
    },
    {
      "cell_type": "markdown",
      "metadata": {
        "id": "A0XvGVH16ogo",
        "colab_type": "text"
      },
      "source": [
        "### Step 9. Predict the accident severity with various supervised machine learning algorithms\n",
        "\n",
        "   #### Algorithm D. Random Forest   \n",
        "   ##### Visualize important features      "
      ]
    },
    {
      "cell_type": "code",
      "metadata": {
        "id": "fUdXe_PI6ogp",
        "colab_type": "code",
        "colab": {
          "base_uri": "https://localhost:8080/",
          "height": 316
        },
        "outputId": "b9a8d73f-7704-4bde-ac58-e00e2d280f59"
      },
      "source": [
        "feature_imp = pd.Series(clf.feature_importances_,index=X.columns).sort_values(ascending=False)\n",
        "\n",
        "# Creating a bar plot, displaying only the top k features\n",
        "k=10\n",
        "sns.barplot(x=feature_imp[:10], y=feature_imp.index[:k])\n",
        "# Add labels to your graph\n",
        "plt.xlabel('Feature Importance Score')\n",
        "plt.ylabel('Features')\n",
        "plt.title(\"Visualizing Important Features\")\n",
        "plt.legend()\n",
        "plt.show()"
      ],
      "execution_count": 81,
      "outputs": [
        {
          "output_type": "stream",
          "text": [
            "No handles with labels found to put in legend.\n"
          ],
          "name": "stderr"
        },
        {
          "output_type": "display_data",
          "data": {
            "image/png": "[encoded data removed]",
            "text/plain": [
              "<Figure size 432x288 with 1 Axes>"
            ]
          },
          "metadata": {
            "tags": []
          }
        }
      ]
    },
    {
      "cell_type": "code",
      "metadata": {
        "scrolled": true,
        "id": "K7r-lF9C6ogr",
        "colab_type": "code",
        "colab": {
          "base_uri": "https://localhost:8080/",
          "height": 374
        },
        "outputId": "8d29f7fa-51de-4850-ec68-de12e436f405"
      },
      "source": [
        "# List top k important features\n",
        "k=20\n",
        "feature_imp.sort_values(ascending=False)[:k]"
      ],
      "execution_count": 82,
      "outputs": [
        {
          "output_type": "execute_result",
          "data": {
            "text/plain": [
              "Start_Lat               0.097307\n",
              "Start_Lng               0.084771\n",
              "Distance(mi)            0.056137\n",
              "Pressure(in)            0.055753\n",
              "Humidity(%)             0.046666\n",
              "Temperature(F)          0.046025\n",
              "Hour                    0.043318\n",
              "Time_Duration(min)      0.036678\n",
              "TMC                     0.019598\n",
              "Side_R                  0.017700\n",
              "County_Dutchess         0.016854\n",
              "Visibility(mi)          0.014842\n",
              "County_Suffolk          0.014833\n",
              "County_Rockland         0.013521\n",
              "Wind_Direction_West     0.013177\n",
              "City_Bronx              0.012145\n",
              "County_Westchester      0.011368\n",
              "Sunrise_Sunset_Night    0.011049\n",
              "County_Bronx            0.010043\n",
              "Traffic_Signal          0.010030\n",
              "dtype: float64"
            ]
          },
          "metadata": {
            "tags": []
          },
          "execution_count": 82
        }
      ]
    },
    {
      "cell_type": "markdown",
      "metadata": {
        "id": "tK1eD7sB6ogs",
        "colab_type": "text"
      },
      "source": [
        "### Step 9. Predict the accident severity with various supervised machine learning algorithms\n",
        "\n",
        "   #### Algorithm D. Random Forest   \n",
        "   ##### Select the top important features, set the threshold      "
      ]
    },
    {
      "cell_type": "code",
      "metadata": {
        "id": "9SLsmOl06ogt",
        "colab_type": "code",
        "colab": {
          "base_uri": "https://localhost:8080/",
          "height": 153
        },
        "outputId": "0a70878e-4f9c-43df-bce8-ca6729f1ac21"
      },
      "source": [
        "# Create a selector object that will use the random forest classifier to identify\n",
        "# features that have an importance of more than 0.03\n",
        "sfm = SelectFromModel(clf, threshold=0.03)\n",
        "\n",
        "# Train the selector\n",
        "sfm.fit(X_train, y_train)\n",
        "\n",
        "feat_labels=X.columns\n",
        "\n",
        "# Print the names of the most important features\n",
        "for feature_list_index in sfm.get_support(indices=True):\n",
        "    print(feat_labels[feature_list_index])"
      ],
      "execution_count": 83,
      "outputs": [
        {
          "output_type": "stream",
          "text": [
            "Start_Lng\n",
            "Start_Lat\n",
            "Distance(mi)\n",
            "Temperature(F)\n",
            "Humidity(%)\n",
            "Pressure(in)\n",
            "Hour\n",
            "Time_Duration(min)\n"
          ],
          "name": "stdout"
        }
      ]
    },
    {
      "cell_type": "code",
      "metadata": {
        "id": "Sf2soBFd6ogv",
        "colab_type": "code",
        "colab": {
          "base_uri": "https://localhost:8080/",
          "height": 153
        },
        "outputId": "fef4ad89-cc8d-4f0d-bc4c-b258635a1e07"
      },
      "source": [
        "# Transform the data to create a new dataset containing only the most important features\n",
        "# Note: We have to apply the transform to both the training X and test X data.\n",
        "X_important_train = sfm.transform(X_train)\n",
        "X_important_test = sfm.transform(X_test)\n",
        "\n",
        "# Create a new random forest classifier for the most important features\n",
        "clf_important = RandomForestClassifier(n_estimators=100, random_state=0, n_jobs=-1)\n",
        "\n",
        "# Train the new classifier on the new dataset containing the most important features\n",
        "clf_important.fit(X_important_train, y_train)"
      ],
      "execution_count": 84,
      "outputs": [
        {
          "output_type": "execute_result",
          "data": {
            "text/plain": [
              "RandomForestClassifier(bootstrap=True, ccp_alpha=0.0, class_weight=None,\n",
              "                       criterion='gini', max_depth=None, max_features='auto',\n",
              "                       max_leaf_nodes=None, max_samples=None,\n",
              "                       min_impurity_decrease=0.0, min_impurity_split=None,\n",
              "                       min_samples_leaf=1, min_samples_split=2,\n",
              "                       min_weight_fraction_leaf=0.0, n_estimators=100,\n",
              "                       n_jobs=-1, oob_score=False, random_state=0, verbose=0,\n",
              "                       warm_start=False)"
            ]
          },
          "metadata": {
            "tags": []
          },
          "execution_count": 84
        }
      ]
    },
    {
      "cell_type": "code",
      "metadata": {
        "scrolled": true,
        "id": "BXpHX4x26ogx",
        "colab_type": "code",
        "colab": {
          "base_uri": "https://localhost:8080/",
          "height": 51
        },
        "outputId": "fa430c9f-a00f-449a-f517-4a3d5bb79180"
      },
      "source": [
        "# Apply The Full Featured Classifier To The Test Data\n",
        "y_pred = clf.predict(X_test)\n",
        "\n",
        "# View The Accuracy Of Our Full Feature Model\n",
        "print('[Randon forest algorithm -- Full feature] accuracy_score: {:.3f}.'.format(accuracy_score(y_test, y_pred)))\n",
        "\n",
        "# Apply The Full Featured Classifier To The Test Data\n",
        "y_important_pred = clf_important.predict(X_important_test)\n",
        "\n",
        "# View The Accuracy Of Our Limited Feature Model\n",
        "print('[Randon forest algorithm -- Limited feature] accuracy_score: {:.3f}.'.format(accuracy_score(y_test, y_important_pred)))"
      ],
      "execution_count": 85,
      "outputs": [
        {
          "output_type": "stream",
          "text": [
            "[Randon forest algorithm -- Full feature] accuracy_score: 0.791.\n",
            "[Randon forest algorithm -- Limited feature] accuracy_score: 0.727.\n"
          ],
          "name": "stdout"
        }
      ]
    },
    {
      "cell_type": "markdown",
      "metadata": {
        "id": "3S2oCAiP6og0",
        "colab_type": "text"
      },
      "source": [
        "### Step 9. Predict the accident severity with various supervised machine learning algorithms\n",
        "\n",
        "#### Plot the accuracy score versus algorithm"
      ]
    },
    {
      "cell_type": "code",
      "metadata": {
        "id": "OoW__6v56og0",
        "colab_type": "code",
        "colab": {
          "base_uri": "https://localhost:8080/",
          "height": 299
        },
        "outputId": "b78d823e-1cbf-4b2d-e809-c558eccbd74d"
      },
      "source": [
        "# Make a plot of the accuracy scores for different algorithms\n",
        "\n",
        "# Generate a list of ticks for y-axis\n",
        "y_ticks=np.arange(len(algo_lst))\n",
        "\n",
        "# Combine the list of algorithms and list of accuracy scores into a dataframe, sort the value based on accuracy score\n",
        "df_acc=pd.DataFrame(list(zip(algo_lst, accuracy_lst)), columns=['Algorithm','Accuracy_Score']).sort_values(by=['Accuracy_Score'],ascending = True)\n",
        "\n",
        "# Export to a file\n",
        "df_acc.to_csv('./Accuracy_scores_algorithms_{}.csv'.format(state),index=False)\n",
        "\n",
        "# Make a plot\n",
        "ax=df_acc.plot.barh('Algorithm', 'Accuracy_Score', align='center',legend=False,color='0.5')\n",
        "\n",
        "# Add the data label on to the plot\n",
        "for i in ax.patches:\n",
        "    # get_width pulls left or right; get_y pushes up or down\n",
        "    ax.text(i.get_width()+0.02, i.get_y()+0.2, str(round(i.get_width(),2)), fontsize=10)\n",
        "\n",
        "# Set the limit, lables, ticks and title\n",
        "plt.xlim(0,1.05)\n",
        "plt.xlabel('Accuracy Score')\n",
        "plt.yticks(y_ticks, df_acc['Algorithm'], rotation=0)\n",
        "plt.title('[{}] Which algorithm is better?'.format(state))\n",
        "\n",
        "plt.show()"
      ],
      "execution_count": 86,
      "outputs": [
        {
          "output_type": "display_data",
          "data": {
            "image/png": "[encoded data removed]",
            "text/plain": [
              "<Figure size 432x288 with 1 Axes>"
            ]
          },
          "metadata": {
            "tags": []
          }
        }
      ]
    },
    {
      "cell_type": "markdown",
      "metadata": {
        "id": "2YfT8T9xtuxw",
        "colab_type": "text"
      },
      "source": [
        "So, As we can observe here, the accuracy score for given dataset using Random Forest yeilds higher score. "
      ]
    },
    {
      "cell_type": "code",
      "metadata": {
        "id": "dxRyN3L282Ck",
        "colab_type": "code",
        "colab": {}
      },
      "source": [
        "# Define lists of states, colors, linestyles, month order, day_order, and hour_order\n",
        "state_lst=['NY']\n",
        "state_lst_full=['New York']\n",
        "color_lst=['r']\n",
        "linestyle_lst=['dashed']\n",
        "month_lst = [ 'Jan', 'Feb', 'Mar', 'Apr', 'May', 'Jun', 'Jul','Aug','Sep','Oct','Nov','Dec']\n",
        "weekday_lst = [ 'Mon', 'Tue', 'Wed', 'Thu', 'Fri', 'Sat', 'Sun']\n",
        "weekday_lst_full = [ 'Monday', 'Tuesday', 'Wednesday', 'Thursday', 'Friday', 'Saturday', 'Sunday']\n",
        "hour_lst= np.arange(24)"
      ],
      "execution_count": 116,
      "outputs": []
    },
    {
      "cell_type": "code",
      "metadata": {
        "id": "JEfPniFU9FwK",
        "colab_type": "code",
        "colab": {
          "base_uri": "https://localhost:8080/",
          "height": 369
        },
        "outputId": "6ec5d95c-a968-42e6-87de-ed5997db914b"
      },
      "source": [
        "sns.lmplot(x='Start_Lng', y='Start_Lat', data=df, hue='State')\n",
        "plt.show()"
      ],
      "execution_count": 117,
      "outputs": [
        {
          "output_type": "display_data",
          "data": {
            "image/png": "[encoded data removed]",
            "text/plain": [
              "<Figure size 409.5x360 with 1 Axes>"
            ]
          },
          "metadata": {
            "tags": []
          }
        }
      ]
    },
    {
      "cell_type": "code",
      "metadata": {
        "id": "jemENFmz9Fk1",
        "colab_type": "code",
        "colab": {
          "base_uri": "https://localhost:8080/",
          "height": 420
        },
        "outputId": "8dab0885-a71b-4a1e-c4fa-c0c77b6d43e1"
      },
      "source": [
        "\n",
        "df.set_index('Start_Time',drop=True,inplace=True)\n",
        "\n",
        "\n",
        "# Set the size of the figure\n",
        "fig= plt.figure(figsize=(15,6))\n",
        "\n",
        "# Run a for loop for each state\n",
        "for i,state in enumerate(state_lst):\n",
        "    \n",
        "    # Set a sub plot\n",
        "    plt.subplot(1, 3, 1+i)\n",
        "     # Slice the dataframe for the specific state and weekday\n",
        "    df[df['State']==state].resample('M').count()['ID'].plot(linestyle=linestyle_lst[i], color=color_lst[i])\n",
        "    \n",
        "    plt.xlim('2016','2017-Jan')\n",
        "    \n",
        "    plt.xlabel=('Year')\n",
        "    plt.title('{}'.format(state))\n",
        "\n",
        "plt.show()\n",
        "\n",
        "\n",
        "df.reset_index(inplace=True)"
      ],
      "execution_count": 110,
      "outputs": [
        {
          "output_type": "display_data",
          "data": {
            "image/png": "[encoded data removed]",
            "text/plain": [
              "<Figure size 1080x432 with 1 Axes>"
            ]
          },
          "metadata": {
            "tags": []
          }
        }
      ]
    },
    {
      "cell_type": "code",
      "metadata": {
        "id": "PzVbnTFNwHlC",
        "colab_type": "code",
        "colab": {
          "base_uri": "https://localhost:8080/",
          "height": 102
        },
        "outputId": "6977aadc-dd68-4f17-b653-d7a94dbeca59"
      },
      "source": [
        "\n",
        "# Find out how many unique days in the dataset\n",
        "allday_lst=df.Start_Time.astype(str).str.split(' ')\n",
        "allday_lst2=[item[0] for item in allday_lst]\n",
        "\n",
        "print('For New York in this dataset:')\n",
        "print('There are {} total accidents.'.format(df.shape[0]))\n",
        "print('There are {} total days.'.format(len(allday_lst2)))\n",
        "print('There are {} unique days.'.format(len(set(allday_lst2))))\n",
        "print('On average, there are {} accidents per day.'.format(round(df.shape[0]/len(set(allday_lst2)))))"
      ],
      "execution_count": 118,
      "outputs": [
        {
          "output_type": "stream",
          "text": [
            "For New York in this dataset:\n",
            "There are 999 total accidents.\n",
            "There are 999 total days.\n",
            "There are 14 unique days.\n",
            "On average, there are 71 accidents per day.\n"
          ],
          "name": "stdout"
        }
      ]
    }
  ]
}